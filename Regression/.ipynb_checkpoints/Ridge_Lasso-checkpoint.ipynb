{
 "cells": [
  {
   "cell_type": "code",
   "execution_count": 3,
   "id": "06afcaa1-7e36-4e98-a3b0-e6dab6f054a4",
   "metadata": {},
   "outputs": [
    {
     "name": "stdout",
     "output_type": "stream",
     "text": [
      "Linear Training Score :  87.62658622117098\n",
      "Linear Testing Score :  -113.1853411876246\n",
      "Ridge Training Score :  87.52943682922132\n",
      "Ridge Testing Score :  -125.28931562880308\n",
      "Lasso Training Score :  87.62658621962932\n",
      "Lasso Testing Score :  -113.18663600982487\n"
     ]
    }
   ],
   "source": [
    "import pandas as pd\n",
    "from sklearn.model_selection import train_test_split\n",
    "from sklearn.linear_model import LinearRegression,Ridge,Lasso\n",
    "\n",
    "df = pd.read_csv(\"Colinear.csv\")\n",
    "\n",
    "x = df.iloc[:,:-1].values\n",
    "y = df.iloc[:,-1].values\n",
    "\n",
    "x_train,x_test,y_train,y_test = train_test_split(x,y,test_size=0.2,random_state=0)\n",
    "\n",
    "regressor = LinearRegression()\n",
    "regressor.fit(x_train,y_train)\n",
    "\n",
    "print(\"Linear Training Score : \",regressor.score(x_train,y_train) * 100)\n",
    "print(\"Linear Testing Score : \",regressor.score(x_test,y_test) * 100)\n",
    "\n",
    "rd = Ridge(alpha=2)\n",
    "rd.fit(x_train,y_train)\n",
    "\n",
    "print(\"Ridge Training Score : \",rd.score(x_train,y_train) * 100)\n",
    "print(\"Ridge Testing Score : \",rd.score(x_test,y_test) * 100)\n",
    "\n",
    "ls = Lasso(alpha=2)\n",
    "ls.fit(x_train,y_train)\n",
    "\n",
    "print(\"Lasso Training Score : \",ls.score(x_train,y_train) * 100)\n",
    "print(\"Lasso Testing Score : \",ls.score(x_test,y_test) * 100)"
   ]
  }
 ],
 "metadata": {
  "kernelspec": {
   "display_name": "Python 3 (ipykernel)",
   "language": "python",
   "name": "python3"
  },
  "language_info": {
   "codemirror_mode": {
    "name": "ipython",
    "version": 3
   },
   "file_extension": ".py",
   "mimetype": "text/x-python",
   "name": "python",
   "nbconvert_exporter": "python",
   "pygments_lexer": "ipython3",
   "version": "3.12.3"
  }
 },
 "nbformat": 4,
 "nbformat_minor": 5
}
