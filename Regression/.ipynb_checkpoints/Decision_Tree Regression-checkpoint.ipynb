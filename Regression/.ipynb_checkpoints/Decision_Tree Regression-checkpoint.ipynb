{
 "cells": [
  {
   "cell_type": "code",
   "execution_count": 13,
   "id": "7e8f7e87-87e7-4b29-aa45-c1d775ba5d1a",
   "metadata": {},
   "outputs": [
    {
     "name": "stdout",
     "output_type": "stream",
     "text": [
      "Accuracy :  58.57438016528926\n",
      "Prediction :  [200000.]\n"
     ]
    }
   ],
   "source": [
    "import pandas as pd\n",
    "import matplotlib.pyplot as plt\n",
    "from sklearn.model_selection import train_test_split\n",
    "from sklearn.tree import DecisionTreeRegressor\n",
    "from sklearn.metrics import r2_score\n",
    "\n",
    "df = pd.read_csv(\"Position_Salaries.csv\")\n",
    "\n",
    "x = df.iloc[:,1:2].values\n",
    "y = df.iloc[:,2].values\n",
    "\n",
    "x_train,x_test,y_train,y_test = train_test_split(x,y,test_size=0.2,random_state=0)\n",
    "\n",
    "regressor = DecisionTreeRegressor()\n",
    "regressor.fit(x_train,y_train)\n",
    "\n",
    "pred = regressor.predict(x_test)\n",
    "\n",
    "r_square = r2_score(y_test,pred)\n",
    "print(\"Accuracy : \",r_square * 100)\n",
    "\n",
    "new_price_pred = regressor.predict([[7]])\n",
    "print(\"Prediction : \",new_price_pred)"
   ]
  },
  {
   "cell_type": "code",
   "execution_count": null,
   "id": "f52d046d-10b9-4670-847c-5cd50f5a67e9",
   "metadata": {},
   "outputs": [],
   "source": []
  }
 ],
 "metadata": {
  "kernelspec": {
   "display_name": "Python 3 (ipykernel)",
   "language": "python",
   "name": "python3"
  },
  "language_info": {
   "codemirror_mode": {
    "name": "ipython",
    "version": 3
   },
   "file_extension": ".py",
   "mimetype": "text/x-python",
   "name": "python",
   "nbconvert_exporter": "python",
   "pygments_lexer": "ipython3",
   "version": "3.12.3"
  }
 },
 "nbformat": 4,
 "nbformat_minor": 5
}
