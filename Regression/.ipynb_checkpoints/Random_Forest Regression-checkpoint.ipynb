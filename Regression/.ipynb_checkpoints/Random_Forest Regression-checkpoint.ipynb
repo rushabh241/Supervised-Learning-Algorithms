{
 "cells": [
  {
   "cell_type": "code",
   "execution_count": 9,
   "id": "9745e506-d803-4334-8c5e-8375f4c21cb6",
   "metadata": {},
   "outputs": [
    {
     "name": "stdout",
     "output_type": "stream",
     "text": [
      "Accuracy is : 99.9914562775001\n",
      "Salary Of level is :  [192857.14285714]\n"
     ]
    }
   ],
   "source": [
    "import pandas as pd\n",
    "from sklearn.model_selection import train_test_split\n",
    "from sklearn.ensemble import RandomForestRegressor\n",
    "from sklearn.metrics import r2_score\n",
    "\n",
    "df = pd.read_csv(\"Position_Salaries.csv\")\n",
    "\n",
    "x = df.iloc[:,1:2].values\n",
    "y = df.iloc[:,-1].values\n",
    "\n",
    "x_train,x_test,y_train,y_test = train_test_split(x,y,test_size=0.2,random_state=0)\n",
    "\n",
    "regressor = RandomForestRegressor(n_estimators=7,random_state=0)\n",
    "regressor.fit(x_train,y_train)\n",
    "\n",
    "pred = regressor.predict(x_test)\n",
    "\n",
    "r_square = r2_score(pred,y_test)\n",
    "print(\"Accuracy is :\",r_square * 100)\n",
    "\n",
    "new_price_pred = regressor.predict([[7]])\n",
    "print(\"Salary Of level is : \",new_price_pred)"
   ]
  },
  {
   "cell_type": "code",
   "execution_count": null,
   "id": "081e7dac-b633-447c-9404-35e5f90d2a1b",
   "metadata": {},
   "outputs": [],
   "source": []
  }
 ],
 "metadata": {
  "kernelspec": {
   "display_name": "Python 3 (ipykernel)",
   "language": "python",
   "name": "python3"
  },
  "language_info": {
   "codemirror_mode": {
    "name": "ipython",
    "version": 3
   },
   "file_extension": ".py",
   "mimetype": "text/x-python",
   "name": "python",
   "nbconvert_exporter": "python",
   "pygments_lexer": "ipython3",
   "version": "3.12.3"
  }
 },
 "nbformat": 4,
 "nbformat_minor": 5
}
