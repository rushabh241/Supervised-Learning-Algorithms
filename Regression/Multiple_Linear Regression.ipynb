{
 "cells": [
  {
   "cell_type": "code",
   "execution_count": 2,
   "id": "3154ebcf-9fd1-4f01-9d4f-5bdc9a4f8295",
   "metadata": {},
   "outputs": [
    {
     "name": "stdout",
     "output_type": "stream",
     "text": [
      "Training Score :  95.01847627493606\n",
      "Testing Score :  93.47068473282965\n"
     ]
    }
   ],
   "source": [
    "import pandas as pd\n",
    "import matplotlib.pyplot as plt\n",
    "from sklearn.preprocessing import LabelEncoder,OneHotEncoder\n",
    "from sklearn.compose import ColumnTransformer\n",
    "from sklearn.model_selection import train_test_split\n",
    "from sklearn.linear_model import LinearRegression\n",
    "\n",
    "df = pd.read_csv(\"Startups.csv\")\n",
    "\n",
    "x = df.iloc[:,:-1].values\n",
    "y = df.iloc[:,4].values\n",
    "\n",
    "labelencoder_x = LabelEncoder()\n",
    "x[:,3] = labelencoder_x.fit_transform(x[:,3])\n",
    "\n",
    "ct = ColumnTransformer([(\"Countries\",OneHotEncoder(),[3])],remainder='passthrough')\n",
    "x = ct.fit_transform(x)\n",
    "\n",
    "x = x[:,1:]\n",
    "\n",
    "x_train,x_test,y_train,y_test = train_test_split(x,y,test_size=0.2,random_state=0)\n",
    "\n",
    "regressor = LinearRegression()\n",
    "regressor.fit(x_train,y_train)\n",
    "\n",
    "x_pred = regressor.predict(x_train)\n",
    "y_pred = regressor.predict(x_test)\n",
    "\n",
    "print(\"Training Score : \",regressor.score(x_train,y_train) * 100)\n",
    "print(\"Testing Score : \",regressor.score(x_test,y_test) * 100)"
   ]
  },
  {
   "cell_type": "code",
   "execution_count": null,
   "id": "f6071810-b4f0-453d-82a6-c7a10bae6035",
   "metadata": {},
   "outputs": [],
   "source": []
  }
 ],
 "metadata": {
  "kernelspec": {
   "display_name": "Python 3 (ipykernel)",
   "language": "python",
   "name": "python3"
  },
  "language_info": {
   "codemirror_mode": {
    "name": "ipython",
    "version": 3
   },
   "file_extension": ".py",
   "mimetype": "text/x-python",
   "name": "python",
   "nbconvert_exporter": "python",
   "pygments_lexer": "ipython3",
   "version": "3.12.3"
  }
 },
 "nbformat": 4,
 "nbformat_minor": 5
}
