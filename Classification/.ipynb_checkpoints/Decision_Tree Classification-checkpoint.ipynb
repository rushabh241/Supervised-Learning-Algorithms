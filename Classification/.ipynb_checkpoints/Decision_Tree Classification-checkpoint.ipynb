{
 "cells": [
  {
   "cell_type": "code",
   "execution_count": 5,
   "id": "6d0cd0b7-68cd-4dcd-b87c-d32ec9be06d1",
   "metadata": {},
   "outputs": [
    {
     "name": "stdout",
     "output_type": "stream",
     "text": [
      "Accuracy :  73.2620320855615\n",
      "Confusion Matrix : \n",
      " [[64  4]\n",
      " [ 2 30]]\n"
     ]
    }
   ],
   "source": [
    "import pandas as pd\n",
    "from sklearn.model_selection import train_test_split\n",
    "from sklearn.tree import DecisionTreeClassifier\n",
    "from sklearn.metrics import r2_score,confusion_matrix\n",
    "\n",
    "df = pd.read_csv(\"Social_Network.csv\")\n",
    "\n",
    "x = df.iloc[:,2:4].values\n",
    "y = df.iloc[:,-1].values\n",
    "\n",
    "x_train,x_test,y_train,y_test = train_test_split(x,y,test_size=0.25,random_state=0)\n",
    "\n",
    "classifier = DecisionTreeClassifier(criterion='gini',max_depth=3,random_state=0)\n",
    "classifier.fit(x_train,y_train)\n",
    "\n",
    "y_pred = classifier.predict(x_test)\n",
    "\n",
    "r_square = r2_score(y_pred,y_test)\n",
    "print(\"Accuracy : \",r_square * 100)\n",
    "\n",
    "cf = confusion_matrix(y_test,y_pred)\n",
    "print(\"Confusion Matrix : \\n\",cf)"
   ]
  }
 ],
 "metadata": {
  "kernelspec": {
   "display_name": "Python 3 (ipykernel)",
   "language": "python",
   "name": "python3"
  },
  "language_info": {
   "codemirror_mode": {
    "name": "ipython",
    "version": 3
   },
   "file_extension": ".py",
   "mimetype": "text/x-python",
   "name": "python",
   "nbconvert_exporter": "python",
   "pygments_lexer": "ipython3",
   "version": "3.12.3"
  }
 },
 "nbformat": 4,
 "nbformat_minor": 5
}
