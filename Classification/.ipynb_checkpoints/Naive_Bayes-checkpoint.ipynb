{
 "cells": [
  {
   "cell_type": "code",
   "execution_count": 3,
   "id": "043102ce-08bf-44c1-a0c4-6e8b1aa36571",
   "metadata": {},
   "outputs": [
    {
     "name": "stdout",
     "output_type": "stream",
     "text": [
      "Training Score :  88.33333333333333\n",
      "Testing Score :  91.0\n",
      "Confusion Matrix : \n",
      " [[64  5]\n",
      " [ 4 27]]\n"
     ]
    }
   ],
   "source": [
    "import pandas as pd\n",
    "from sklearn.model_selection import train_test_split\n",
    "from sklearn.preprocessing import StandardScaler\n",
    "from sklearn.naive_bayes import GaussianNB\n",
    "from sklearn.metrics import confusion_matrix\n",
    "\n",
    "df = pd.read_csv(\"User_Data.csv\")\n",
    "\n",
    "x = df.iloc[:,2:4].values\n",
    "y = df.iloc[:,-1].values\n",
    "\n",
    "x_train,x_test,y_train,y_test = train_test_split(x,y,test_size=0.25,random_state=0)\n",
    "\n",
    "sc = StandardScaler()\n",
    "\n",
    "x_train = sc.fit_transform(x_train)\n",
    "x_test = sc.fit_transform(x_test)\n",
    "\n",
    "classifier = GaussianNB()\n",
    "classifier.fit(x_train,y_train)\n",
    "\n",
    "pred = classifier.predict(x_test)\n",
    "\n",
    "print(\"Training Score : \",classifier.score(x_train,y_train) * 100)\n",
    "print(\"Testing Score : \",classifier.score(x_test,y_test) * 100)\n",
    "\n",
    "cf = confusion_matrix(pred,y_test)\n",
    "\n",
    "print(\"Confusion Matrix : \\n\",cf)"
   ]
  },
  {
   "cell_type": "code",
   "execution_count": null,
   "id": "8863f4dc-213a-49a1-9177-128f925ae2db",
   "metadata": {},
   "outputs": [],
   "source": []
  }
 ],
 "metadata": {
  "kernelspec": {
   "display_name": "Python 3 (ipykernel)",
   "language": "python",
   "name": "python3"
  },
  "language_info": {
   "codemirror_mode": {
    "name": "ipython",
    "version": 3
   },
   "file_extension": ".py",
   "mimetype": "text/x-python",
   "name": "python",
   "nbconvert_exporter": "python",
   "pygments_lexer": "ipython3",
   "version": "3.12.3"
  }
 },
 "nbformat": 4,
 "nbformat_minor": 5
}
