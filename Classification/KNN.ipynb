{
 "cells": [
  {
   "cell_type": "code",
   "execution_count": 2,
   "id": "b09c6720-65ea-4346-bd10-6b7ef2e6ced8",
   "metadata": {},
   "outputs": [
    {
     "name": "stdout",
     "output_type": "stream",
     "text": [
      "Training Score :  91.33333333333333\n",
      "Testing Score :  93.0\n",
      "Confusion Matrix : \n",
      " [[64  3]\n",
      " [ 4 29]]\n"
     ]
    }
   ],
   "source": [
    "import pandas as pd\n",
    "from sklearn.model_selection import train_test_split\n",
    "from sklearn.neighbors import KNeighborsClassifier\n",
    "from sklearn.metrics import confusion_matrix\n",
    "from sklearn.preprocessing import StandardScaler\n",
    "\n",
    "df = pd.read_csv(\"Social_Network.csv\")\n",
    "\n",
    "x = df.iloc[:,2:4].values\n",
    "y = df.iloc[:,-1].values\n",
    "\n",
    "x_train,x_test,y_train,y_test = train_test_split(x,y,test_size=0.25,random_state=0)\n",
    "\n",
    "sc = StandardScaler()\n",
    "\n",
    "x_train = sc.fit_transform(x_train)\n",
    "x_test = sc.fit_transform(x_test)\n",
    "\n",
    "classifier = KNeighborsClassifier(n_neighbors=5,metric='minkowski',p=1)\n",
    "classifier.fit(x_train,y_train)\n",
    "\n",
    "pred = classifier.predict(x_test)\n",
    "\n",
    "cf = confusion_matrix(pred,y_test)\n",
    "\n",
    "print(\"Training Score : \",classifier.score(x_train,y_train) * 100)\n",
    "print(\"Testing Score : \",classifier.score(x_test,y_test) * 100)\n",
    "\n",
    "print(\"Confusion Matrix : \\n\",cf)"
   ]
  },
  {
   "cell_type": "code",
   "execution_count": null,
   "id": "2fdbb15a-dbcd-46bb-a499-34d85e5b23ad",
   "metadata": {},
   "outputs": [],
   "source": []
  }
 ],
 "metadata": {
  "kernelspec": {
   "display_name": "Python 3 (ipykernel)",
   "language": "python",
   "name": "python3"
  },
  "language_info": {
   "codemirror_mode": {
    "name": "ipython",
    "version": 3
   },
   "file_extension": ".py",
   "mimetype": "text/x-python",
   "name": "python",
   "nbconvert_exporter": "python",
   "pygments_lexer": "ipython3",
   "version": "3.12.3"
  }
 },
 "nbformat": 4,
 "nbformat_minor": 5
}
